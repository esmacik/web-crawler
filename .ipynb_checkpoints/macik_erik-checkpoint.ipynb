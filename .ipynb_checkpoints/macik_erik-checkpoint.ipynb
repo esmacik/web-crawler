{
 "cells": [
  {
   "cell_type": "markdown",
   "id": "37a39744",
   "metadata": {},
   "source": [
    "# Erik Macik\n",
    "\n",
    "# Assignment 1: Crawling and Indexing"
   ]
  },
  {
   "cell_type": "markdown",
   "id": "0e779c18",
   "metadata": {},
   "source": [
    "## Read stop words into set"
   ]
  },
  {
   "cell_type": "code",
   "execution_count": 1,
   "id": "2b17d4da",
   "metadata": {},
   "outputs": [],
   "source": [
    "stop_words = set(line.strip() for line in open('stop_word.txt'))"
   ]
  },
  {
   "cell_type": "markdown",
   "id": "fc8316a8",
   "metadata": {},
   "source": [
    "## Download webpage"
   ]
  },
  {
   "cell_type": "code",
   "execution_count": 2,
   "id": "896d0816",
   "metadata": {},
   "outputs": [
    {
     "name": "stdout",
     "output_type": "stream",
     "text": [
      "CS 4390/5390\n",
      "<br>\n",
      "Assignment: Crawling and Indexing\n",
      "\n",
      "<br>\n",
      "<br>\n",
      "\n",
      "experimental investigation of the aerodynamics of a\n",
      "wing in a slipstream .\n",
      "an experimental study of a wing in a <a href=\"./Ae.html\">propeller slipstream</a> was\n",
      "made in order to determine the spanwise distribution of the lift\n",
      "increase due to <a href=\"./Ae.html\">slipstream</a> at different angles of attack of the wing\n",
      "and at different free stream to <a href=\"./Ae.html\">slipstream</a> velocity ratios .  the\n",
      "results were intended in part as an evaluation basis for different\n",
      "<a href=\"./A2/A21.html\">theoretical treatments</a> of this problem .\n",
      "the comparative <a href=\"./Af.html\">span loading curves</a>, together with\n",
      "supporting evidence, showed that a substantial part of the lift increment\n",
      "produced by the  <a href=\"./Ae.html\">slipstream</a> was due to a /destalling/ or\n",
      "<a href=\"./Ad.html\">boundary-layer</a> control effect .  the integrated remaining lift\n",
      "increment, after subtracting this destalling lift, was found to agree\n",
      "well with a potential flow theory .\n",
      "\n",
      "<br>\n",
      "<br>\n",
      "\n",
      "\n",
      "the possible effects of\n",
      "vorticity have been recently discussed by ferri and libby .  in the\n",
      "present paper, the simple shear flow past a flat plate in a fluid of small\n",
      "<a href=\"./A2/A22.html\">viscosity</a> is investigated .  it can be shown that this problem can again\n",
      "be treated by the <a href=\"./Ad.html\">boundary-layer</a> approximation, the only novel feature\n",
      "being that the free stream has a constant vorticity .\n",
      "\n",
      "\n",
      "\n",
      "<br>\n",
      "<br>\n",
      "\n",
      "\n",
      " in a recent contribution to the readers'\n",
      "forum wassermann gave analytic\n",
      "solutions for the temperature in a double\n",
      "layer slab, with a triangular heat\n",
      "rate input at one face, <a href=\"./A2/A23.html\">insulated</a> at the other,\n",
      "and with no thermal resistance\n",
      "at the interface .\n",
      "\n"
     ]
    }
   ],
   "source": [
    "from urllib import request\n",
    "\n",
    "url = \"http://www.cs.utep.edu/makbar/A3/A2.html\"\n",
    "response = request.urlopen(url)\n",
    "page = response.read().decode('utf8')\n",
    "print (page)"
   ]
  },
  {
   "cell_type": "code",
   "execution_count": 4,
   "id": "827be653",
   "metadata": {
    "scrolled": true
   },
   "outputs": [
    {
     "name": "stdout",
     "output_type": "stream",
     "text": [
      "CS 4390/5390\n",
      "<br/>\n",
      "Assignment: Crawling and Indexing\n",
      "<br/>\n",
      "<br/>\n",
      "experimental investigation of the aerodynamics of a\n",
      "wing in a slipstream .\n",
      "an experimental study of a wing in a\n",
      "<a href=\"./Ae.html\">\n",
      " propeller slipstream\n",
      "</a>\n",
      "was\n",
      "made in order to determine the spanwise distribution of the lift\n",
      "increase due to\n",
      "<a href=\"./Ae.html\">\n",
      " slipstream\n",
      "</a>\n",
      "at different angles of attack of the wing\n",
      "and at different free stream to\n",
      "<a href=\"./Ae.html\">\n",
      " slipstream\n",
      "</a>\n",
      "velocity ratios .  the\n",
      "results were intended in part as an evaluation basis for different\n",
      "<a href=\"./A2/A21.html\">\n",
      " theoretical treatments\n",
      "</a>\n",
      "of this problem .\n",
      "the comparative\n",
      "<a href=\"./Af.html\">\n",
      " span loading curves\n",
      "</a>\n",
      ", together with\n",
      "supporting evidence, showed that a substantial part of the lift increment\n",
      "produced by the\n",
      "<a href=\"./Ae.html\">\n",
      " slipstream\n",
      "</a>\n",
      "was due to a /destalling/ or\n",
      "<a href=\"./Ad.html\">\n",
      " boundary-layer\n",
      "</a>\n",
      "control effect .  the integrated remaining lift\n",
      "increment, after subtracting this destalling lift, was found to agree\n",
      "well with a potential flow theory .\n",
      "<br/>\n",
      "<br/>\n",
      "the possible effects of\n",
      "vorticity have been recently discussed by ferri and libby .  in the\n",
      "present paper, the simple shear flow past a flat plate in a fluid of small\n",
      "<a href=\"./A2/A22.html\">\n",
      " viscosity\n",
      "</a>\n",
      "is investigated .  it can be shown that this problem can again\n",
      "be treated by the\n",
      "<a href=\"./Ad.html\">\n",
      " boundary-layer\n",
      "</a>\n",
      "approximation, the only novel feature\n",
      "being that the free stream has a constant vorticity .\n",
      "<br/>\n",
      "<br/>\n",
      "in a recent contribution to the readers'\n",
      "forum wassermann gave analytic\n",
      "solutions for the temperature in a double\n",
      "layer slab, with a triangular heat\n",
      "rate input at one face,\n",
      "<a href=\"./A2/A23.html\">\n",
      " insulated\n",
      "</a>\n",
      "at the other,\n",
      "and with no thermal resistance\n",
      "at the interface .\n",
      "\n"
     ]
    }
   ],
   "source": [
    "from bs4 import BeautifulSoup\n",
    "\n",
    "htmlstring = BeautifulSoup(page, 'html.parser')\n",
    "raw = htmlstring.get_text()\n",
    "print (htmlstring.prettify())"
   ]
  },
  {
   "cell_type": "code",
   "execution_count": null,
   "id": "02856d26",
   "metadata": {},
   "outputs": [],
   "source": []
  }
 ],
 "metadata": {
  "interpreter": {
   "hash": "aee8b7b246df8f9039afb4144a1f6fd8d2ca17a180786b69acc140d282b71a49"
  },
  "kernelspec": {
   "display_name": "Python 3 (ipykernel)",
   "language": "python",
   "name": "python3"
  },
  "language_info": {
   "codemirror_mode": {
    "name": "ipython",
    "version": 3
   },
   "file_extension": ".py",
   "mimetype": "text/x-python",
   "name": "python",
   "nbconvert_exporter": "python",
   "pygments_lexer": "ipython3",
   "version": "3.9.6"
  }
 },
 "nbformat": 4,
 "nbformat_minor": 5
}
